{
 "cells": [
  {
   "cell_type": "markdown",
   "metadata": {},
   "source": [
    "Выравнивание ридов RNA-Seq"
   ]
  },
  {
   "cell_type": "markdown",
   "metadata": {},
   "source": [
    "./STAR/STAR/bin/Linux_x86_64_static/STAR --runThreadN 2 --runMode genomeGenerate --genomeDir ./res_star --genomeFastaFiles ./data/ref.fa --sjdbGTFfile ./data/genes.gtf --genomeSAindexNbases 10"
   ]
  },
  {
   "cell_type": "markdown",
   "metadata": {},
   "source": [
    "./STAR/STAR/bin/Linux_x86_64_static/STAR --runThreadN 2 --genomeDir ./res_star --readFilesIn ./data/SRR453566_1.fastq.gz ./data/SRR453566_2.fastq.gz"
   ]
  },
  {
   "cell_type": "markdown",
   "metadata": {},
   "source": [
    "Не хватает памяти! Пока я ищу память для выравнивания, соберем риды:"
   ]
  },
  {
   "cell_type": "markdown",
   "metadata": {},
   "source": [
    "python ./SPAdes-3.14.0-Linux/bin/spades.py -o ./out --rna -1 ./data/SRR453566_1.fastq.gz -2 ./data/SRR453566_2.fastq.gz"
   ]
  },
  {
   "cell_type": "code",
   "execution_count": 3,
   "metadata": {},
   "outputs": [
    {
     "name": "stdout",
     "output_type": "stream",
     "text": [
      "7126\r\n"
     ]
    }
   ],
   "source": [
    "!python3 /media/cocos/E666-2771/plot.py"
   ]
  },
  {
   "cell_type": "code",
   "execution_count": null,
   "metadata": {},
   "outputs": [],
   "source": []
  }
 ],
 "metadata": {
  "kernelspec": {
   "display_name": "Python 3",
   "language": "python",
   "name": "python3"
  },
  "language_info": {
   "codemirror_mode": {
    "name": "ipython",
    "version": 3
   },
   "file_extension": ".py",
   "mimetype": "text/x-python",
   "name": "python",
   "nbconvert_exporter": "python",
   "pygments_lexer": "ipython3",
   "version": "3.6.8"
  }
 },
 "nbformat": 4,
 "nbformat_minor": 4
}
