{
 "cells": [
  {
   "cell_type": "code",
   "execution_count": 2,
   "metadata": {},
   "outputs": [
    {
     "name": "stderr",
     "output_type": "stream",
     "text": [
      "/home/cocos/anaconda3/lib/python3.6/site-packages/h5py/__init__.py:36: FutureWarning: Conversion of the second argument of issubdtype from `float` to `np.floating` is deprecated. In future, it will be treated as `np.float64 == np.dtype(float).type`.\n",
      "  from ._conv import register_converters as _register_converters\n"
     ]
    }
   ],
   "source": [
    "import pandas as pd\n",
    "import numpy as np\n",
    "from sklearn.model_selection import train_test_split\n",
    "import tensorflow as tf\n",
    "from pathlib import Path\n",
    "from tensorflow.keras.preprocessing.image import img_to_array, load_img"
   ]
  },
  {
   "cell_type": "markdown",
   "metadata": {},
   "source": [
    "# Нейронные сети\n",
    "__Суммарное количество баллов: 10__\n",
    "\n",
    "В этом домашнем задании можно использовать готовые классы библиотек PyTorch, Keras, TensorFlow."
   ]
  },
  {
   "cell_type": "markdown",
   "metadata": {},
   "source": [
    "### Задание 1 (4 балла)\n",
    "\n",
    "Создайте сеть из трех сверточных слоев по 8 сверток 3х3 и двух полносвязных слоев по 64 нейрона. \n",
    "\n",
    "Обучите сеть на датасете mnist с тремя разными функциями активации в слоях (sigmoid, tanh, ReLU)."
   ]
  },
  {
   "cell_type": "code",
   "execution_count": 3,
   "metadata": {},
   "outputs": [],
   "source": [
    "def get_dataset_mnist():\n",
    "    df = pd.read_csv('./mnist.csv')\n",
    "    y = df['label'].values\n",
    "    d=[]\n",
    "    for i in range(df.shape[1]-1):\n",
    "        d.append(df[str(i)])\n",
    "\n",
    "    X = np.array(d).transpose()\n",
    "    \n",
    "    return X, y"
   ]
  },
  {
   "cell_type": "code",
   "execution_count": 4,
   "metadata": {},
   "outputs": [],
   "source": [
    "def split_data(X, y, shape):\n",
    "    classes = 10\n",
    "    X_train, X_test, y_train, y_test = train_test_split(X, y, test_size=0.2)\n",
    "    X_train.shape = (len(X_train), shape[0], shape[1], shape[2])\n",
    "    X_test.shape = (len(X_test), shape[0], shape[1], shape[2])\n",
    "    y_train = tf.keras.utils.to_categorical(y_train, classes)\n",
    "    y_test = tf.keras.utils.to_categorical(y_test, classes)\n",
    "\n",
    "    return X_train, X_test, y_train, y_test"
   ]
  },
  {
   "cell_type": "code",
   "execution_count": 9,
   "metadata": {},
   "outputs": [],
   "source": [
    "def CNN1(activation, X_train, X_test, y_train, y_test): \n",
    "    model = tf.keras.Sequential()\n",
    "    model.add(tf.keras.layers.Conv2D(8, (3, 3), activation=activation, \n",
    "                                     input_shape=(28, 28, 1)))\n",
    "    model.add(tf.keras.layers.Conv2D(8, (3, 3), activation=activation))\n",
    "    model.add(tf.keras.layers.Conv2D(8, (3, 3), activation=activation))\n",
    "    model.add(tf.keras.layers.Flatten())\n",
    "    model.add(tf.keras.layers.Dense(64, activation=activation))\n",
    "    model.add(tf.keras.layers.Dense(64, activation=activation))\n",
    "    model.add(tf.keras.layers.Dense(10, activation='softmax'))\n",
    "\n",
    "    model.compile(optimizer='adam', loss='categorical_crossentropy', metrics=['accuracy'])\n",
    "    \n",
    "    model.fit(X_train, y_train, epochs=5, validation_data=(X_test, y_test))\n",
    "\n",
    "    score = model.evaluate(X_test, y_test)\n",
    "    print('loss:', score[0])\n",
    "    print('accuracy:', score[1])"
   ]
  },
  {
   "cell_type": "code",
   "execution_count": null,
   "metadata": {},
   "outputs": [
    {
     "name": "stdout",
     "output_type": "stream",
     "text": [
      "Train on 8000 samples, validate on 2000 samples\n",
      "Epoch 1/5\n",
      "8000/8000 [==============================] - 3s 430us/sample - loss: 0.6060 - acc: 0.8425 - val_loss: 0.1960 - val_acc: 0.9365\n",
      "Epoch 2/5\n",
      "8000/8000 [==============================] - 4s 449us/sample - loss: 0.1011 - acc: 0.9701 - val_loss: 0.2102 - val_acc: 0.9395\n",
      "Epoch 3/5\n",
      "8000/8000 [==============================] - 3s 422us/sample - loss: 0.0455 - acc: 0.9856 - val_loss: 0.1372 - val_acc: 0.9575\n",
      "Epoch 4/5\n",
      "8000/8000 [==============================] - 3s 427us/sample - loss: 0.0257 - acc: 0.9915 - val_loss: 0.1468 - val_acc: 0.9620\n",
      "Epoch 5/5\n",
      "7456/8000 [==========================>...] - ETA: 0s - loss: 0.0220 - acc: 0.9937"
     ]
    }
   ],
   "source": [
    "X, y = get_dataset_mnist()\n",
    "X_train, X_test, y_train, y_test = split_data(X, y, (28, 28, 1))\n",
    "CNN1('relu', X_train, X_test, y_train, y_test)"
   ]
  },
  {
   "cell_type": "code",
   "execution_count": 1,
   "metadata": {},
   "outputs": [
    {
     "ename": "NameError",
     "evalue": "name 'CNN1' is not defined",
     "output_type": "error",
     "traceback": [
      "\u001b[0;31m---------------------------------------------------------------------------\u001b[0m",
      "\u001b[0;31mNameError\u001b[0m                                 Traceback (most recent call last)",
      "\u001b[0;32m<ipython-input-1-799487dd5870>\u001b[0m in \u001b[0;36m<module>\u001b[0;34m\u001b[0m\n\u001b[0;32m----> 1\u001b[0;31m \u001b[0mCNN1\u001b[0m\u001b[0;34m(\u001b[0m\u001b[0;34m'sigmoid'\u001b[0m\u001b[0;34m,\u001b[0m \u001b[0mX_train\u001b[0m\u001b[0;34m,\u001b[0m \u001b[0mX_test\u001b[0m\u001b[0;34m,\u001b[0m \u001b[0my_train\u001b[0m\u001b[0;34m,\u001b[0m \u001b[0my_test\u001b[0m\u001b[0;34m)\u001b[0m\u001b[0;34m\u001b[0m\u001b[0;34m\u001b[0m\u001b[0m\n\u001b[0m",
      "\u001b[0;31mNameError\u001b[0m: name 'CNN1' is not defined"
     ]
    }
   ],
   "source": [
    "CNN1('sigmoid', X_train, X_test, y_train, y_test)"
   ]
  },
  {
   "cell_type": "code",
   "execution_count": null,
   "metadata": {},
   "outputs": [],
   "source": [
    "CNN1('tanh', X_train, X_test, y_train, y_test)"
   ]
  },
  {
   "cell_type": "markdown",
   "metadata": {},
   "source": [
    "### Задание 2 (6 баллов)\n",
    "\n",
    "Достигните точности 87% на test датасете notMNIST.\n",
    "\n",
    "Архитектура сети может быть любая. Можно использовать Data Augmentation."
   ]
  },
  {
   "cell_type": "code",
   "execution_count": 154,
   "metadata": {},
   "outputs": [],
   "source": [
    "def get_dataset_notMnist():\n",
    "    X, y = [], []\n",
    "    letters = {'A':0, 'B':1, 'C':2, 'D':3, 'E':4, 'F':5, 'G':6, 'H':7, 'I':8, 'J':9}\n",
    "    p = Path('./notMNIST/notMNIST_small/')\n",
    "    dirs = [x for x in p.iterdir() if x.is_dir()]\n",
    "\n",
    "    for el in dirs:\n",
    "        p = Path(el)\n",
    "        for x in p.iterdir():\n",
    "            if x.is_file():\n",
    "                img = load_img(x)\n",
    "                img_array = img_to_array(img)\n",
    "                X.append(img_array)\n",
    "                path = str(el)\n",
    "                letter = path[len(path)-1:len(path)]\n",
    "                num = letters[letter]\n",
    "                y.append(num)\n",
    "    X = np.array(X)\n",
    "    y = np.array(y)\n",
    "    return X, y"
   ]
  },
  {
   "cell_type": "code",
   "execution_count": 235,
   "metadata": {},
   "outputs": [],
   "source": [
    "def CNN2(activation, X_train, X_test, y_train, y_test): \n",
    "    model = tf.keras.Sequential()\n",
    "    model.add(tf.keras.layers.Conv2D(32,kernel_size=(3,3),activation='relu',input_shape=(28,28,3)))\n",
    "\n",
    "    model.add(tf.keras.layers.MaxPool2D(pool_size=(2,2)))\n",
    "    model.add(tf.keras.layers.Dropout(0.1))\n",
    "    \n",
    "    model.add(tf.keras.layers.Conv2D(64,kernel_size=(3,3),activation='relu'))\n",
    "    model.add(tf.keras.layers.MaxPool2D(pool_size=(2,2)))\n",
    "    model.add(tf.keras.layers.Dropout(0.4))\n",
    "    model.add(tf.keras.layers.Flatten())   \n",
    "    model.add(tf.keras.layers.Dense(128, activation='relu'))\n",
    "    model.add(tf.keras.layers.Dropout(0.4))\n",
    "    model.add(tf.keras.layers.Dense(10, activation='softmax'))\n",
    "    \n",
    "    model.compile(optimizer=\"adam\", loss=\"categorical_crossentropy\", metrics=[\"accuracy\"])\n",
    "   \n",
    "    model.fit(X_train, y_train, batch_size=128, epochs=15, validation_data=(X_test, y_test))\n",
    "    score = model.evaluate(X_test, y_test)\n",
    "    print('loss:', score[0])\n",
    "    print('accuracy:', score[1])"
   ]
  },
  {
   "cell_type": "code",
   "execution_count": 236,
   "metadata": {},
   "outputs": [
    {
     "name": "stdout",
     "output_type": "stream",
     "text": [
      "Train on 14979 samples, validate on 3745 samples\n",
      "Epoch 1/15\n",
      "14979/14979 [==============================] - 10s 651us/sample - loss: 13.0018 - acc: 0.1897 - val_loss: 11.5843 - val_acc: 0.2774\n",
      "Epoch 2/15\n",
      "14979/14979 [==============================] - 9s 581us/sample - loss: 10.2165 - acc: 0.3596 - val_loss: 8.1006 - val_acc: 0.4935\n",
      "Epoch 3/15\n",
      "14979/14979 [==============================] - 9s 610us/sample - loss: 8.6201 - acc: 0.4604 - val_loss: 7.9058 - val_acc: 0.5052\n",
      "Epoch 4/15\n",
      "14979/14979 [==============================] - 10s 646us/sample - loss: 7.5223 - acc: 0.5259 - val_loss: 6.4878 - val_acc: 0.5933\n",
      "Epoch 5/15\n",
      "14979/14979 [==============================] - 10s 639us/sample - loss: 6.6756 - acc: 0.5791 - val_loss: 5.4712 - val_acc: 0.6510\n",
      "Epoch 6/15\n",
      "14979/14979 [==============================] - 10s 634us/sample - loss: 5.6605 - acc: 0.6394 - val_loss: 5.0371 - val_acc: 0.6804\n",
      "Epoch 7/15\n",
      "14979/14979 [==============================] - 10s 640us/sample - loss: 5.2228 - acc: 0.6671 - val_loss: 4.8179 - val_acc: 0.6927\n",
      "Epoch 8/15\n",
      "14979/14979 [==============================] - 9s 633us/sample - loss: 5.2936 - acc: 0.6625 - val_loss: 4.7499 - val_acc: 0.7004\n",
      "Epoch 9/15\n",
      "14979/14979 [==============================] - 10s 644us/sample - loss: 4.9170 - acc: 0.6862 - val_loss: 4.7741 - val_acc: 0.6988\n",
      "Epoch 10/15\n",
      "14979/14979 [==============================] - 10s 661us/sample - loss: 4.5763 - acc: 0.7038 - val_loss: 3.5558 - val_acc: 0.7626\n",
      "Epoch 11/15\n",
      "14979/14979 [==============================] - 10s 638us/sample - loss: 3.6093 - acc: 0.7537 - val_loss: 2.6310 - val_acc: 0.7971\n",
      "Epoch 12/15\n",
      "14979/14979 [==============================] - 10s 652us/sample - loss: 1.4973 - acc: 0.8118 - val_loss: 0.5143 - val_acc: 0.8702\n",
      "Epoch 13/15\n",
      "14979/14979 [==============================] - 9s 629us/sample - loss: 0.6466 - acc: 0.8314 - val_loss: 0.4272 - val_acc: 0.8836\n",
      "Epoch 14/15\n",
      "14979/14979 [==============================] - 9s 631us/sample - loss: 0.5470 - acc: 0.8459 - val_loss: 0.3900 - val_acc: 0.8868\n",
      "Epoch 15/15\n",
      "14979/14979 [==============================] - 10s 636us/sample - loss: 0.4883 - acc: 0.8605 - val_loss: 0.3667 - val_acc: 0.8953\n",
      "3745/3745 [==============================] - 1s 256us/sample - loss: 0.3667 - acc: 0.8953\n",
      "loss: 0.36665628096349884\n",
      "accuracy: 0.8953271\n"
     ]
    }
   ],
   "source": [
    "X, y = get_dataset_notMnist()\n",
    "X_train, X_test, y_train, y_test = split_data(X, y, (28, 28, 3))\n",
    "CNN2('relu', X_train, X_test, y_train, y_test)"
   ]
  }
 ],
 "metadata": {
  "kernelspec": {
   "display_name": "Python 3",
   "language": "python",
   "name": "python3"
  },
  "language_info": {
   "codemirror_mode": {
    "name": "ipython",
    "version": 3
   },
   "file_extension": ".py",
   "mimetype": "text/x-python",
   "name": "python",
   "nbconvert_exporter": "python",
   "pygments_lexer": "ipython3",
   "version": "3.6.8"
  }
 },
 "nbformat": 4,
 "nbformat_minor": 2
}
